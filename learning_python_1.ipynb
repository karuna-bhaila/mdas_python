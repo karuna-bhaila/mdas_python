{
 "cells": [
  {
   "cell_type": "markdown",
   "metadata": {},
   "source": [
    "# Python as a calculator"
   ]
  },
  {
   "cell_type": "code",
   "execution_count": 1,
   "metadata": {},
   "outputs": [
    {
     "data": {
      "text/plain": [
       "648.56402"
      ]
     },
     "execution_count": 1,
     "metadata": {},
     "output_type": "execute_result"
    }
   ],
   "source": [
    "403 * 1.60934"
   ]
  },
  {
   "cell_type": "code",
   "execution_count": 2,
   "metadata": {},
   "outputs": [
    {
     "name": "stdout",
     "output_type": "stream",
     "text": [
      "403\n"
     ]
    }
   ],
   "source": [
    "distance = 403  # This is an assignment\n",
    "print(distance)"
   ]
  },
  {
   "cell_type": "code",
   "execution_count": 3,
   "metadata": {},
   "outputs": [],
   "source": [
    "# This is a comment."
   ]
  },
  {
   "cell_type": "markdown",
   "metadata": {
    "id": "wMVytNdnFNgE"
   },
   "source": [
    "# Learning variables"
   ]
  },
  {
   "cell_type": "code",
   "execution_count": 4,
   "metadata": {
    "colab": {
     "base_uri": "https://localhost:8080/"
    },
    "id": "pghUlR2eCmGl",
    "outputId": "9a91680f-8c7a-4f66-b2ed-bcf8220975a3"
   },
   "outputs": [
    {
     "name": "stdout",
     "output_type": "stream",
     "text": [
      "9.5\n",
      "7 2.5\n",
      "<class 'int'>\n",
      "<class 'float'>\n",
      "\n",
      "The sum is 9.5\n",
      "The sum of  7  and  2.5  is  9.5\n",
      "The sum of 7 and 2.5 is 9.5\n",
      "The sum of 7 and 2.5 is 9.5\n",
      "\n"
     ]
    }
   ],
   "source": [
    "# This is a comment.\n",
    "# cannot use keywords as variable names\n",
    "a = 10 - 3 # integer variable\n",
    "b = 2.5 # floating point variable\n",
    "c = a + b\n",
    "print(c)\n",
    "print(a,b)\n",
    "print(type(a))\n",
    "print(type(c))\n",
    "print()\n",
    "\n",
    "# can change/re-assign values\n",
    "\n",
    "print(\"The sum is\", c) # prints the sum of a and b stored in c\n",
    "print(\"The sum of \", a, \" and \", b, \" is \", c)\n",
    "print(\"The sum of {} and {} is {}\".format(a,b,c)) # print using placeholders\n",
    "print(f\"The sum of {a} and {b} is {c}\") # print using placeholders\n",
    "print()"
   ]
  },
  {
   "cell_type": "code",
   "execution_count": 5,
   "metadata": {},
   "outputs": [
    {
     "data": {
      "text/plain": [
       "0.25"
      ]
     },
     "execution_count": 5,
     "metadata": {},
     "output_type": "execute_result"
    }
   ],
   "source": [
    "(2+3)/4%0.5"
   ]
  },
  {
   "cell_type": "code",
   "execution_count": 6,
   "metadata": {},
   "outputs": [
    {
     "ename": "TypeError",
     "evalue": "unsupported operand type(s) for +: 'int' and 'str'",
     "output_type": "error",
     "traceback": [
      "\u001b[1;31m---------------------------------------------------------------------------\u001b[0m",
      "\u001b[1;31mTypeError\u001b[0m                                 Traceback (most recent call last)",
      "Cell \u001b[1;32mIn [6], line 1\u001b[0m\n\u001b[1;32m----> 1\u001b[0m \u001b[38;5;241;43m2\u001b[39;49m\u001b[43m \u001b[49m\u001b[38;5;241;43m+\u001b[39;49m\u001b[43m \u001b[49m\u001b[38;5;124;43m'\u001b[39;49m\u001b[38;5;124;43mapple\u001b[39;49m\u001b[38;5;124;43m'\u001b[39;49m\n",
      "\u001b[1;31mTypeError\u001b[0m: unsupported operand type(s) for +: 'int' and 'str'"
     ]
    }
   ],
   "source": [
    "2 + 'apple'"
   ]
  },
  {
   "cell_type": "code",
   "execution_count": 7,
   "metadata": {},
   "outputs": [
    {
     "name": "stdout",
     "output_type": "stream",
     "text": [
      "Hello world\n",
      "\n",
      "Hello World!\n",
      "Hello World! This is my first program.\n",
      "\n",
      "Hi!\n",
      "This is a \n",
      "multiline string.\n"
     ]
    }
   ],
   "source": [
    "# Strings\n",
    "print('Hello world\\n')\n",
    "greeting = 'Hello World!'\n",
    "print(greeting)\n",
    "statement = 'This is my first program.'\n",
    "print(greeting + ' ' + statement) # concat and print strings\n",
    "print()\n",
    "\n",
    "multiline = \"\"\"Hi!\n",
    "This is a \n",
    "multiline string.\"\"\"\n",
    "print(multiline)"
   ]
  },
  {
   "cell_type": "code",
   "execution_count": 8,
   "metadata": {},
   "outputs": [
    {
     "data": {
      "text/plain": [
       "'Hello World! This is my first program.'"
      ]
     },
     "execution_count": 8,
     "metadata": {},
     "output_type": "execute_result"
    }
   ],
   "source": [
    "greeting + ' ' + statement"
   ]
  },
  {
   "cell_type": "code",
   "execution_count": 9,
   "metadata": {},
   "outputs": [
    {
     "name": "stdout",
     "output_type": "stream",
     "text": [
      "9.5\n",
      "True\n",
      "True\n",
      "False\n",
      "True\n"
     ]
    }
   ],
   "source": [
    "# Comparison operators\n",
    "print(c)\n",
    "print(c > 0)\n",
    "print(c <= 10)\n",
    "print(c == 12.5)\n",
    "c = 12.5\n",
    "print(c == 12.5)"
   ]
  },
  {
   "cell_type": "code",
   "execution_count": 10,
   "metadata": {},
   "outputs": [
    {
     "name": "stdout",
     "output_type": "stream",
     "text": [
      "x:True, y:False\n",
      "False\n",
      "True\n",
      "False\n"
     ]
    }
   ],
   "source": [
    "# Boolean variables and logical operators\n",
    "x = True\n",
    "y = False\n",
    "\n",
    "print(f'x:{x}, y:{y}')\n",
    "print(x and y)\n",
    "print(x or y)\n",
    "print(not x)"
   ]
  },
  {
   "cell_type": "code",
   "execution_count": 11,
   "metadata": {},
   "outputs": [
    {
     "name": "stdout",
     "output_type": "stream",
     "text": [
      "<class 'int'>\n",
      "<class 'float'>\n",
      "7 7.0\n",
      "2.5 2\n",
      "Hello World! 7\n",
      "False True\n",
      "0 1\n"
     ]
    }
   ],
   "source": [
    "# Typecasting\n",
    "print(type(a))\n",
    "a_float = float(a)\n",
    "print(type(a_float))\n",
    "print(a, a_float)\n",
    "\n",
    "b_int = int(b)\n",
    "print(b, b_int)\n",
    "\n",
    "print(greeting + \" \" + str(a)) # print integer by casting it to a string\n",
    "\n",
    "print(bool(0), bool(1))\n",
    "print(int(False), int(True))"
   ]
  },
  {
   "cell_type": "code",
   "execution_count": 12,
   "metadata": {},
   "outputs": [
    {
     "name": "stdout",
     "output_type": "stream",
     "text": [
      "2 <class 'str'>\n"
     ]
    }
   ],
   "source": [
    "a = 2\n",
    "a = str(a)\n",
    "print(a, type(a))"
   ]
  },
  {
   "cell_type": "code",
   "execution_count": 13,
   "metadata": {},
   "outputs": [
    {
     "ename": "TypeError",
     "evalue": "can only concatenate str (not \"int\") to str",
     "output_type": "error",
     "traceback": [
      "\u001b[1;31m---------------------------------------------------------------------------\u001b[0m",
      "\u001b[1;31mTypeError\u001b[0m                                 Traceback (most recent call last)",
      "Cell \u001b[1;32mIn [13], line 1\u001b[0m\n\u001b[1;32m----> 1\u001b[0m \u001b[43ma\u001b[49m\u001b[43m \u001b[49m\u001b[38;5;241;43m+\u001b[39;49m\u001b[43m \u001b[49m\u001b[38;5;241;43m2\u001b[39;49m\n",
      "\u001b[1;31mTypeError\u001b[0m: can only concatenate str (not \"int\") to str"
     ]
    }
   ],
   "source": [
    "a + 2"
   ]
  },
  {
   "cell_type": "markdown",
   "metadata": {
    "id": "w2lW-JTeFvKb"
   },
   "source": [
    "# Python lists"
   ]
  },
  {
   "cell_type": "code",
   "execution_count": 14,
   "metadata": {
    "colab": {
     "base_uri": "https://localhost:8080/"
    },
    "id": "eATfnYAaCtW8",
    "outputId": "fe9f6a64-bbde-4a72-af0f-6bfb63a7fdbf",
    "scrolled": true
   },
   "outputs": [
    {
     "name": "stdout",
     "output_type": "stream",
     "text": [
      "[1.1, 2.3, 4.5]\n",
      "[[1, 0, 2], [2, 5, 7], [1, 2]]\n",
      "['Hello', ['This', 'is', 'my', 'first', 'program'], 2.4, [1, 2]]\n"
     ]
    }
   ],
   "source": [
    "letters = ['a', 'b', 'c', 'x', 'y', 'z']\n",
    "words = ['This', 'is', 'my', 'first', 'program']\n",
    "\n",
    "list_1d = [1.1, 2.3, 4.5]          \n",
    "list_2d = [[1,0,2],[2,5,7],[1,2]]  \n",
    "print(list_1d)\n",
    "print(list_2d)\n",
    "\n",
    "mixed_list = ['Hello', words, 2.4, [1, 2]]\n",
    "print(mixed_list)"
   ]
  },
  {
   "cell_type": "code",
   "execution_count": 15,
   "metadata": {},
   "outputs": [
    {
     "name": "stdout",
     "output_type": "stream",
     "text": [
      "6\n",
      "3\n",
      "1.1\n",
      "4.5\n",
      "a\n"
     ]
    }
   ],
   "source": [
    "# Length, Min, Max\n",
    "print(len(letters))\n",
    "print(len(list_2d))\n",
    "print(min(list_1d))\n",
    "print(max(list_1d))\n",
    "print(min(letters))"
   ]
  },
  {
   "cell_type": "code",
   "execution_count": 16,
   "metadata": {
    "colab": {
     "base_uri": "https://localhost:8080/",
     "height": 35
    },
    "id": "ODRGp_OkGbxr",
    "outputId": "59bcffcf-b5c9-45da-b47a-afc1b7e22495"
   },
   "outputs": [
    {
     "name": "stdout",
     "output_type": "stream",
     "text": [
      "[1.1, 2.3, 4.5]\n",
      "1.1\n",
      "4.5\n",
      "4.5\n",
      "1.1\n",
      "my\n"
     ]
    }
   ],
   "source": [
    "# Indexing\n",
    "# Python lists are zero-indexed\n",
    "print(list_1d)\n",
    "print(list_1d[0])\n",
    "print(list_1d[2])\n",
    "\n",
    "print(list_1d[-1])\n",
    "print(list_1d[-3])\n",
    "# print(list_1d[3])\n",
    "\n",
    "print(mixed_list[1][2])"
   ]
  },
  {
   "cell_type": "code",
   "execution_count": 17,
   "metadata": {
    "colab": {
     "base_uri": "https://localhost:8080/"
    },
    "id": "10LkSNjwHTAM",
    "outputId": "f72673b4-9bed-43b9-9d1c-d72f97e08454"
   },
   "outputs": [
    {
     "name": "stdout",
     "output_type": "stream",
     "text": [
      "['a', 'b', 'c', 'x', 'y', 'z']\n",
      "['a', 'b', 'c']\n",
      "['x', 'y', 'z']\n",
      "['x', 'y']\n",
      "['x', 'y', 'z']\n"
     ]
    }
   ],
   "source": [
    "# Slicing lists\n",
    "print(letters)\n",
    "print(letters[0:3]) # prints indices 0, 1, 2\n",
    "print(letters[3:])\n",
    "\n",
    "print(letters[3:-1])\n",
    "\n",
    "temp = letters[3:]\n",
    "print(temp)"
   ]
  },
  {
   "cell_type": "code",
   "execution_count": 18,
   "metadata": {
    "colab": {
     "base_uri": "https://localhost:8080/"
    },
    "id": "eJ74dUqIJS-3",
    "outputId": "11c7c731-d6bb-4829-f01c-cf845f34a186"
   },
   "outputs": [
    {
     "name": "stdout",
     "output_type": "stream",
     "text": [
      "Python Programming\n",
      "h\n",
      "Python\n",
      "Programming\n"
     ]
    }
   ],
   "source": [
    "# Indexing and Slicing strings\n",
    "string = 'Python Programming'\n",
    "print(string)\n",
    "print(string[3])\n",
    "print(string[0:6])\n",
    "print(string[7:])"
   ]
  },
  {
   "cell_type": "code",
   "execution_count": 19,
   "metadata": {},
   "outputs": [
    {
     "name": "stdout",
     "output_type": "stream",
     "text": [
      "2\n"
     ]
    }
   ],
   "source": [
    "a = 2\n",
    "print(a)"
   ]
  },
  {
   "cell_type": "code",
   "execution_count": 20,
   "metadata": {},
   "outputs": [
    {
     "name": "stdout",
     "output_type": "stream",
     "text": [
      "4\n"
     ]
    }
   ],
   "source": [
    "a = a + 2\n",
    "print(a)"
   ]
  },
  {
   "cell_type": "code",
   "execution_count": 21,
   "metadata": {},
   "outputs": [
    {
     "name": "stdout",
     "output_type": "stream",
     "text": [
      "['a', 'b', 'c', 'x', 'y', 'z']\n",
      "['p', 'b', 'c', 'x', 'y', 'z']\n",
      "['p', 'b', 'c', 'x', 'y', 'u']\n",
      "['p', 'q', 'r', 'x', 'y', 'u']\n",
      "['p', 'q', 'r', 'x', 'y', 'u', 'v']\n"
     ]
    }
   ],
   "source": [
    "# Lists are mutable\n",
    "\n",
    "# by index\n",
    "print(letters)\n",
    "letters[0] = 'p'\n",
    "print(letters)\n",
    "letters[-1] = 'u'\n",
    "print(letters)\n",
    "\n",
    "# by slicing\n",
    "letters[1:3] = ['q','r']\n",
    "print(letters)\n",
    "\n",
    "# add elements to a list\n",
    "letters.append('v')\n",
    "print(letters)"
   ]
  },
  {
   "cell_type": "markdown",
   "metadata": {},
   "source": [
    "# Python Sets"
   ]
  },
  {
   "cell_type": "code",
   "execution_count": 22,
   "metadata": {},
   "outputs": [
    {
     "name": "stdout",
     "output_type": "stream",
     "text": [
      "{'apples', 'bananas', 'oranges'}\n"
     ]
    }
   ],
   "source": [
    "# unordered, unchangeable, and do not allow duplicate values\n",
    "set1 = {'apples', 'bananas', 'oranges', 'apples'}\n",
    "print(set1)\n",
    "# cannot access by index like in lists: set1[0] will result in an error\n",
    "# set1[0]"
   ]
  },
  {
   "cell_type": "code",
   "execution_count": 23,
   "metadata": {},
   "outputs": [
    {
     "name": "stdout",
     "output_type": "stream",
     "text": [
      "['a', 'e', 'i', 'o', 'u', 'a', 'i']\n",
      "{'e', 'a', 'o', 'u', 'i'}\n",
      "<class 'set'>\n",
      "['e', 'a', 'o', 'u', 'i']\n",
      "<class 'list'>\n"
     ]
    }
   ],
   "source": [
    "# convert set to lists and vice-versa\n",
    "vowels_list = ['a', 'e', 'i', 'o', 'u', 'a', 'i']\n",
    "print(vowels_list)\n",
    "\n",
    "vowels_set = set(vowels_list)\n",
    "print(vowels_set)\n",
    "print(type(vowels_set))\n",
    "\n",
    "vowels_list = list(vowels_set)\n",
    "print(vowels_list)\n",
    "print(type(vowels_list))"
   ]
  },
  {
   "cell_type": "markdown",
   "metadata": {},
   "source": [
    "# Loops"
   ]
  },
  {
   "cell_type": "code",
   "execution_count": 24,
   "metadata": {},
   "outputs": [
    {
     "name": "stdout",
     "output_type": "stream",
     "text": [
      "a\n",
      "2\n",
      "e\n",
      "2\n",
      "i\n",
      "2\n",
      "o\n",
      "2\n",
      "u\n",
      "2\n",
      "a\n",
      "2\n",
      "i\n",
      "2\n",
      "1\n"
     ]
    }
   ],
   "source": [
    "# Iterate through a list using loops\n",
    "# Simple for loop\n",
    "letters = ['a', 'e', 'i', 'o', 'u', 'a', 'i']\n",
    "for item in letters:\n",
    "    print(item)\n",
    "    print('2') # indentation matters\n",
    "print('1')"
   ]
  },
  {
   "cell_type": "code",
   "execution_count": 25,
   "metadata": {},
   "outputs": [
    {
     "name": "stdout",
     "output_type": "stream",
     "text": [
      "[1.1, 2.3, 4.5]\n",
      "0 1.1\n",
      "1 2.3\n",
      "2 4.5\n",
      "The sum is 7.9\n"
     ]
    }
   ],
   "source": [
    "# Enumerate for loop\n",
    "sum = 0\n",
    "print(list_1d)\n",
    "for i,item in enumerate(list_1d):\n",
    "    print(i, item)\n",
    "    sum = sum + item\n",
    "print(f'The sum is {sum}')"
   ]
  },
  {
   "cell_type": "code",
   "execution_count": 26,
   "metadata": {},
   "outputs": [
    {
     "name": "stdout",
     "output_type": "stream",
     "text": [
      "The sum is 7.9\n"
     ]
    }
   ],
   "source": [
    "# While loop\n",
    "sum = 0\n",
    "i = 0\n",
    "while i < len(list_1d):\n",
    "    sum += list_1d[i]\n",
    "    i += 1\n",
    "print(f'The sum is {sum}')"
   ]
  },
  {
   "cell_type": "code",
   "execution_count": null,
   "metadata": {
    "scrolled": false
   },
   "outputs": [],
   "source": [
    "# Infinite loop; Break out of loop\n",
    "i = 0\n",
    "while i < 1:\n",
    "    print(f'Loop {i} time')\n",
    "#     break"
   ]
  },
  {
   "cell_type": "code",
   "execution_count": 27,
   "metadata": {},
   "outputs": [
    {
     "name": "stdout",
     "output_type": "stream",
     "text": [
      "0\n",
      "1\n",
      "2\n",
      "3\n",
      "4\n",
      "5\n",
      "6\n",
      "7\n",
      "8\n",
      "9\n",
      "Loop finished\n"
     ]
    }
   ],
   "source": [
    "# For Else loop\n",
    "for i in range(10):\n",
    "    print(i)\n",
    "#     if i == 6:\n",
    "#         break\n",
    "else:\n",
    "    print('Loop finished')"
   ]
  },
  {
   "cell_type": "markdown",
   "metadata": {},
   "source": [
    "# Conditionals"
   ]
  },
  {
   "cell_type": "code",
   "execution_count": 28,
   "metadata": {},
   "outputs": [
    {
     "name": "stdout",
     "output_type": "stream",
     "text": [
      "4 is even\n",
      "7 is odd\n",
      "10 is even\n"
     ]
    }
   ],
   "source": [
    "num = [4,7,10]\n",
    "\n",
    "for i in num:\n",
    "    if i%2 == 0:                # indentation matters\n",
    "        print(f'{i} is even')   # indentation matters\n",
    "    if i%2 == 1:\n",
    "        print(f'{i} is odd')"
   ]
  },
  {
   "cell_type": "code",
   "execution_count": 29,
   "metadata": {},
   "outputs": [
    {
     "name": "stdout",
     "output_type": "stream",
     "text": [
      "4 is even\n",
      "7 is odd\n",
      "10 is even\n"
     ]
    }
   ],
   "source": [
    "for i in num:\n",
    "    if i%2 == 0:\n",
    "        print(f'{i} is even')\n",
    "    else:\n",
    "        print(f'{i} is odd')"
   ]
  },
  {
   "cell_type": "code",
   "execution_count": 30,
   "metadata": {},
   "outputs": [
    {
     "name": "stdout",
     "output_type": "stream",
     "text": [
      "90: A\n",
      "87: B\n",
      "67: F\n",
      "78: C\n"
     ]
    }
   ],
   "source": [
    "percentiles = [90, 87, 67, 78]\n",
    "\n",
    "for item in percentiles:\n",
    "    if item >= 90:\n",
    "        print(f'{item}: A')\n",
    "    elif item >= 80:              # else if \n",
    "        print(f'{item}: B')\n",
    "    elif item >= 70:\n",
    "        print(f'{item}: C')\n",
    "    else:\n",
    "        print(f'{item}: F')"
   ]
  },
  {
   "cell_type": "markdown",
   "metadata": {
    "id": "C5NCDOUiSw2l"
   },
   "source": [
    "# Files"
   ]
  },
  {
   "cell_type": "code",
   "execution_count": 31,
   "metadata": {},
   "outputs": [
    {
     "name": "stdout",
     "output_type": "stream",
     "text": [
      "5.1,3.5,\n",
      "1.4,0.2,Iris-setosa\n",
      "\n",
      "150 150\n",
      "['5.1', '3.5', '1.4', '0.2'] Iris-setosa\n",
      "[['5.1', '3.5', '1.4', '0.2'], ['4.9', '3.0', '1.4', '0.2'], ['4.7', '3.2', '1.3', '0.2'], ['4.6', '3.1', '1.5', '0.2'], ['5.0', '3.6', '1.4', '0.2'], ['5.4', '3.9', '1.7', '0.4'], ['4.6', '3.4', '1.4', '0.3'], ['5.0', '3.4', '1.5', '0.2'], ['4.4', '2.9', '1.4', '0.2'], ['4.9', '3.1', '1.5', '0.1'], ['5.4', '3.7', '1.5', '0.2'], ['4.8', '3.4', '1.6', '0.2'], ['4.8', '3.0', '1.4', '0.1'], ['4.3', '3.0', '1.1', '0.1'], ['5.8', '4.0', '1.2', '0.2'], ['5.7', '4.4', '1.5', '0.4'], ['5.4', '3.9', '1.3', '0.4'], ['5.1', '3.5', '1.4', '0.3'], ['5.7', '3.8', '1.7', '0.3'], ['5.1', '3.8', '1.5', '0.3'], ['5.4', '3.4', '1.7', '0.2'], ['5.1', '3.7', '1.5', '0.4'], ['4.6', '3.6', '1.0', '0.2'], ['5.1', '3.3', '1.7', '0.5'], ['4.8', '3.4', '1.9', '0.2'], ['5.0', '3.0', '1.6', '0.2'], ['5.0', '3.4', '1.6', '0.4'], ['5.2', '3.5', '1.5', '0.2'], ['5.2', '3.4', '1.4', '0.2'], ['4.7', '3.2', '1.6', '0.2'], ['4.8', '3.1', '1.6', '0.2'], ['5.4', '3.4', '1.5', '0.4'], ['5.2', '4.1', '1.5', '0.1'], ['5.5', '4.2', '1.4', '0.2'], ['4.9', '3.1', '1.5', '0.1'], ['5.0', '3.2', '1.2', '0.2'], ['5.5', '3.5', '1.3', '0.2'], ['4.9', '3.1', '1.5', '0.1'], ['4.4', '3.0', '1.3', '0.2'], ['5.1', '3.4', '1.5', '0.2'], ['5.0', '3.5', '1.3', '0.3'], ['4.5', '2.3', '1.3', '0.3'], ['4.4', '3.2', '1.3', '0.2'], ['5.0', '3.5', '1.6', '0.6'], ['5.1', '3.8', '1.9', '0.4'], ['4.8', '3.0', '1.4', '0.3'], ['5.1', '3.8', '1.6', '0.2'], ['4.6', '3.2', '1.4', '0.2'], ['5.3', '3.7', '1.5', '0.2'], ['5.0', '3.3', '1.4', '0.2'], ['7.0', '3.2', '4.7', '1.4'], ['6.4', '3.2', '4.5', '1.5'], ['6.9', '3.1', '4.9', '1.5'], ['5.5', '2.3', '4.0', '1.3'], ['6.5', '2.8', '4.6', '1.5'], ['5.7', '2.8', '4.5', '1.3'], ['6.3', '3.3', '4.7', '1.6'], ['4.9', '2.4', '3.3', '1.0'], ['6.6', '2.9', '4.6', '1.3'], ['5.2', '2.7', '3.9', '1.4'], ['5.0', '2.0', '3.5', '1.0'], ['5.9', '3.0', '4.2', '1.5'], ['6.0', '2.2', '4.0', '1.0'], ['6.1', '2.9', '4.7', '1.4'], ['5.6', '2.9', '3.6', '1.3'], ['6.7', '3.1', '4.4', '1.4'], ['5.6', '3.0', '4.5', '1.5'], ['5.8', '2.7', '4.1', '1.0'], ['6.2', '2.2', '4.5', '1.5'], ['5.6', '2.5', '3.9', '1.1'], ['5.9', '3.2', '4.8', '1.8'], ['6.1', '2.8', '4.0', '1.3'], ['6.3', '2.5', '4.9', '1.5'], ['6.1', '2.8', '4.7', '1.2'], ['6.4', '2.9', '4.3', '1.3'], ['6.6', '3.0', '4.4', '1.4'], ['6.8', '2.8', '4.8', '1.4'], ['6.7', '3.0', '5.0', '1.7'], ['6.0', '2.9', '4.5', '1.5'], ['5.7', '2.6', '3.5', '1.0'], ['5.5', '2.4', '3.8', '1.1'], ['5.5', '2.4', '3.7', '1.0'], ['5.8', '2.7', '3.9', '1.2'], ['6.0', '2.7', '5.1', '1.6'], ['5.4', '3.0', '4.5', '1.5'], ['6.0', '3.4', '4.5', '1.6'], ['6.7', '3.1', '4.7', '1.5'], ['6.3', '2.3', '4.4', '1.3'], ['5.6', '3.0', '4.1', '1.3'], ['5.5', '2.5', '4.0', '1.3'], ['5.5', '2.6', '4.4', '1.2'], ['6.1', '3.0', '4.6', '1.4'], ['5.8', '2.6', '4.0', '1.2'], ['5.0', '2.3', '3.3', '1.0'], ['5.6', '2.7', '4.2', '1.3'], ['5.7', '3.0', '4.2', '1.2'], ['5.7', '2.9', '4.2', '1.3'], ['6.2', '2.9', '4.3', '1.3'], ['5.1', '2.5', '3.0', '1.1'], ['5.7', '2.8', '4.1', '1.3'], ['6.3', '3.3', '6.0', '2.5'], ['5.8', '2.7', '5.1', '1.9'], ['7.1', '3.0', '5.9', '2.1'], ['6.3', '2.9', '5.6', '1.8'], ['6.5', '3.0', '5.8', '2.2'], ['7.6', '3.0', '6.6', '2.1'], ['4.9', '2.5', '4.5', '1.7'], ['7.3', '2.9', '6.3', '1.8'], ['6.7', '2.5', '5.8', '1.8'], ['7.2', '3.6', '6.1', '2.5'], ['6.5', '3.2', '5.1', '2.0'], ['6.4', '2.7', '5.3', '1.9'], ['6.8', '3.0', '5.5', '2.1'], ['5.7', '2.5', '5.0', '2.0'], ['5.8', '2.8', '5.1', '2.4'], ['6.4', '3.2', '5.3', '2.3'], ['6.5', '3.0', '5.5', '1.8'], ['7.7', '3.8', '6.7', '2.2'], ['7.7', '2.6', '6.9', '2.3'], ['6.0', '2.2', '5.0', '1.5'], ['6.9', '3.2', '5.7', '2.3'], ['5.6', '2.8', '4.9', '2.0'], ['7.7', '2.8', '6.7', '2.0'], ['6.3', '2.7', '4.9', '1.8'], ['6.7', '3.3', '5.7', '2.1'], ['7.2', '3.2', '6.0', '1.8'], ['6.2', '2.8', '4.8', '1.8'], ['6.1', '3.0', '4.9', '1.8'], ['6.4', '2.8', '5.6', '2.1'], ['7.2', '3.0', '5.8', '1.6'], ['7.4', '2.8', '6.1', '1.9'], ['7.9', '3.8', '6.4', '2.0'], ['6.4', '2.8', '5.6', '2.2'], ['6.3', '2.8', '5.1', '1.5'], ['6.1', '2.6', '5.6', '1.4'], ['7.7', '3.0', '6.1', '2.3'], ['6.3', '3.4', '5.6', '2.4'], ['6.4', '3.1', '5.5', '1.8'], ['6.0', '3.0', '4.8', '1.8'], ['6.9', '3.1', '5.4', '2.1'], ['6.7', '3.1', '5.6', '2.4'], ['6.9', '3.1', '5.1', '2.3'], ['5.8', '2.7', '5.1', '1.9'], ['6.8', '3.2', '5.9', '2.3'], ['6.7', '3.3', '5.7', '2.5'], ['6.7', '3.0', '5.2', '2.3'], ['6.3', '2.5', '5.0', '1.9'], ['6.5', '3.0', '5.2', '2.0'], ['6.2', '3.4', '5.4', '2.3'], ['5.9', '3.0', '5.1', '1.8']]\n",
      "['Iris-setosa', 'Iris-setosa', 'Iris-setosa', 'Iris-setosa', 'Iris-setosa', 'Iris-setosa', 'Iris-setosa', 'Iris-setosa', 'Iris-setosa', 'Iris-setosa', 'Iris-setosa', 'Iris-setosa', 'Iris-setosa', 'Iris-setosa', 'Iris-setosa', 'Iris-setosa', 'Iris-setosa', 'Iris-setosa', 'Iris-setosa', 'Iris-setosa', 'Iris-setosa', 'Iris-setosa', 'Iris-setosa', 'Iris-setosa', 'Iris-setosa', 'Iris-setosa', 'Iris-setosa', 'Iris-setosa', 'Iris-setosa', 'Iris-setosa', 'Iris-setosa', 'Iris-setosa', 'Iris-setosa', 'Iris-setosa', 'Iris-setosa', 'Iris-setosa', 'Iris-setosa', 'Iris-setosa', 'Iris-setosa', 'Iris-setosa', 'Iris-setosa', 'Iris-setosa', 'Iris-setosa', 'Iris-setosa', 'Iris-setosa', 'Iris-setosa', 'Iris-setosa', 'Iris-setosa', 'Iris-setosa', 'Iris-setosa', 'Iris-versicolor', 'Iris-versicolor', 'Iris-versicolor', 'Iris-versicolor', 'Iris-versicolor', 'Iris-versicolor', 'Iris-versicolor', 'Iris-versicolor', 'Iris-versicolor', 'Iris-versicolor', 'Iris-versicolor', 'Iris-versicolor', 'Iris-versicolor', 'Iris-versicolor', 'Iris-versicolor', 'Iris-versicolor', 'Iris-versicolor', 'Iris-versicolor', 'Iris-versicolor', 'Iris-versicolor', 'Iris-versicolor', 'Iris-versicolor', 'Iris-versicolor', 'Iris-versicolor', 'Iris-versicolor', 'Iris-versicolor', 'Iris-versicolor', 'Iris-versicolor', 'Iris-versicolor', 'Iris-versicolor', 'Iris-versicolor', 'Iris-versicolor', 'Iris-versicolor', 'Iris-versicolor', 'Iris-versicolor', 'Iris-versicolor', 'Iris-versicolor', 'Iris-versicolor', 'Iris-versicolor', 'Iris-versicolor', 'Iris-versicolor', 'Iris-versicolor', 'Iris-versicolor', 'Iris-versicolor', 'Iris-versicolor', 'Iris-versicolor', 'Iris-versicolor', 'Iris-versicolor', 'Iris-versicolor', 'Iris-versicolor', 'Iris-virginica', 'Iris-virginica', 'Iris-virginica', 'Iris-virginica', 'Iris-virginica', 'Iris-virginica', 'Iris-virginica', 'Iris-virginica', 'Iris-virginica', 'Iris-virginica', 'Iris-virginica', 'Iris-virginica', 'Iris-virginica', 'Iris-virginica', 'Iris-virginica', 'Iris-virginica', 'Iris-virginica', 'Iris-virginica', 'Iris-virginica', 'Iris-virginica', 'Iris-virginica', 'Iris-virginica', 'Iris-virginica', 'Iris-virginica', 'Iris-virginica', 'Iris-virginica', 'Iris-virginica', 'Iris-virginica', 'Iris-virginica', 'Iris-virginica', 'Iris-virginica', 'Iris-virginica', 'Iris-virginica', 'Iris-virginica', 'Iris-virginica', 'Iris-virginica', 'Iris-virginica', 'Iris-virginica', 'Iris-virginica', 'Iris-virginica', 'Iris-virginica', 'Iris-virginica', 'Iris-virginica', 'Iris-virginica', 'Iris-virginica', 'Iris-virginica', 'Iris-virginica', 'Iris-virginica', 'Iris-virginica', 'Iris-virginica']\n"
     ]
    }
   ],
   "source": [
    "# Open and parse files\n",
    "# download iris.data file from https://archive.ics.uci.edu/ml/machine-learning-databases/iris/\n",
    "\n",
    "with open('data/iris.data', 'r') as infile:\n",
    "    print(infile.read(8))            # read 8 characters from the current cursor position\n",
    "    print(infile.readline())         # read the whole line from the current cursor postition (until newline)\n",
    "infile.close()\n",
    "\n",
    "x = [] # an empty list\n",
    "y = []\n",
    "with open('data/iris.data', 'r') as infile:\n",
    "    for line in infile:             # loop through the file line by line\n",
    "        line = line.rstrip()        # strip the line breaks\n",
    "        fields  = line.split(',')\n",
    "        if len(fields) > 1:\n",
    "            features = fields[:4]\n",
    "            label = fields[4]\n",
    "            x.append(features)\n",
    "            y.append(label)\n",
    "infile.close()\n",
    "        \n",
    "print(len(x),len(y))\n",
    "print(x[0], y[0])\n",
    "\n",
    "print(x)\n",
    "print(y)"
   ]
  },
  {
   "cell_type": "code",
   "execution_count": 32,
   "metadata": {},
   "outputs": [
    {
     "name": "stdout",
     "output_type": "stream",
     "text": [
      "Hello World!\n",
      "\n",
      "This is my first write to a file.\n"
     ]
    }
   ],
   "source": [
    "# Write to a file\n",
    "# Create file if it does not already exist\n",
    "\n",
    "with open('data/output.txt', 'w') as outfile:    # will overwrite any existing content\n",
    "    outfile.write('Hello World!\\n')\n",
    "outfile.close()\n",
    "\n",
    "with open('data/output.txt', 'a') as outfile:    # will append to end of file\n",
    "    outfile.write('This is my first write to a file.')\n",
    "outfile.close()\n",
    "\n",
    "with open('data/output.txt', 'r') as infile:\n",
    "    for line in infile:\n",
    "        print(line)"
   ]
  },
  {
   "cell_type": "code",
   "execution_count": 33,
   "metadata": {},
   "outputs": [
    {
     "name": "stdout",
     "output_type": "stream",
     "text": [
      "\n",
      "Enter start of range: 1\n",
      "\n",
      "Enter end of range: 8\n",
      "\n",
      "The prime numbers in this range are:  [2, 3, 5, 7]\n"
     ]
    }
   ],
   "source": [
    "# Python script (.py file)\n",
    "# Python program to print all prime numbers in an interval\n",
    "\n",
    "x = input(\"\\nEnter start of range: \")\n",
    "y = input(\"\\nEnter end of range: \")\n",
    "\n",
    "x = int(x)\n",
    "y = int(y)\n",
    "\n",
    "prime_list = []\n",
    "\n",
    "for i in range(x, y):\n",
    "    if i == 0 or i == 1:\n",
    "        continue\n",
    "    else:\n",
    "        for j in range(2, int(i/2)+1):\n",
    "            if i % j == 0:\n",
    "                break\n",
    "        else:\n",
    "            prime_list.append(i)\n",
    "            \n",
    "if len(prime_list) == 0:\n",
    "    print(\"\\nThere are no prime numbers in this range\")\n",
    "else:\n",
    "    print(\"\\nThe prime numbers in this range are: \", prime_list)"
   ]
  },
  {
   "cell_type": "code",
   "execution_count": null,
   "metadata": {},
   "outputs": [],
   "source": []
  }
 ],
 "metadata": {
  "colab": {
   "collapsed_sections": [],
   "name": "learning_python.ipynb",
   "provenance": []
  },
  "kernelspec": {
   "display_name": "Python 3 (ipykernel)",
   "language": "python",
   "name": "python3"
  },
  "language_info": {
   "codemirror_mode": {
    "name": "ipython",
    "version": 3
   },
   "file_extension": ".py",
   "mimetype": "text/x-python",
   "name": "python",
   "nbconvert_exporter": "python",
   "pygments_lexer": "ipython3",
   "version": "3.10.7"
  },
  "varInspector": {
   "cols": {
    "lenName": 16,
    "lenType": 16,
    "lenVar": 40
   },
   "kernels_config": {
    "python": {
     "delete_cmd_postfix": "",
     "delete_cmd_prefix": "del ",
     "library": "var_list.py",
     "varRefreshCmd": "print(var_dic_list())"
    },
    "r": {
     "delete_cmd_postfix": ") ",
     "delete_cmd_prefix": "rm(",
     "library": "var_list.r",
     "varRefreshCmd": "cat(var_dic_list()) "
    }
   },
   "types_to_exclude": [
    "module",
    "function",
    "builtin_function_or_method",
    "instance",
    "_Feature"
   ],
   "window_display": false
  }
 },
 "nbformat": 4,
 "nbformat_minor": 1
}
